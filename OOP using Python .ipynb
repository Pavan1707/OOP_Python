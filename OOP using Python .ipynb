{
  "nbformat": 4,
  "nbformat_minor": 0,
  "metadata": {
    "colab": {
      "provenance": []
    },
    "kernelspec": {
      "name": "python3",
      "display_name": "Python 3"
    },
    "language_info": {
      "name": "python"
    }
  },
  "cells": [
    {
      "cell_type": "code",
      "source": [
        "# banking application.\n",
        "class Atm :\n",
        "\n",
        "# constructor -> we don't need to call the constructor\n",
        " def  __init__(self):     # special function called magic method\n",
        "\n",
        "  self.pin = ''\n",
        "  self.__balance = 0\n",
        "  # self.menu()\n",
        "\n",
        "\n",
        "  @ property\n",
        "  def get_balance(self):\n",
        "    return self.__balance\n",
        "\n",
        "  @ get_balance.setter\n",
        "  def get_balance(self,new_value):\n",
        "\n",
        "    if type(new_value) == int:\n",
        "       self.__balance == new_value\n",
        "\n",
        "    else:\n",
        "      print('i will kick your ass bitch!')\n",
        "\n",
        "\n",
        "  def menu(self):\n",
        "\n",
        "   user_input = input(\"\"\"Hi how can i help you?\n",
        "           1.press 1 to create pin\n",
        "           2. press 2 to change pin\n",
        "           3. press 3 to check balance\n",
        "           4. press 4 to withdraw\n",
        "           5. exit\"\"\")\n",
        "\n",
        "   if user_input == '1':\n",
        "    self.create_pin()\n",
        "\n",
        "   elif user_input == '2':\n",
        "    self.change_pin()\n",
        "\n",
        "   elif user_input == '3':\n",
        "    self.check_balance()\n",
        "\n",
        "   elif user_input =='4':\n",
        "    self.withdraw()\n",
        "\n",
        "   else:\n",
        "    exit()\n",
        "\n",
        "def create_pin(self):\n",
        "  user_pin = input('enter your pin: ')\n",
        "\n",
        "  self.pin = user_pin\n",
        "\n",
        "  user_balance=  int(input('enter balance'))\n",
        "\n",
        "  self.balance = user_balance\n",
        "\n",
        "  print('pin created sucessfully')\n",
        "\n",
        "\n",
        "def change_pin(self):\n",
        "  old_pin =input('enter old pin')\n",
        "  if old_pin == self.pin:\n",
        "   new_pin = input('enter new pin:')\n",
        "   self.pin = new_pin\n",
        "   print('pin changed sucessfull')\n",
        "   self.menu()\n",
        "  else:\n",
        "    print('not allowed to change the pin')\n",
        "    self.menu()\n",
        "\n",
        "def check_balance(self):\n",
        "  user_pin =input('enter pin')\n",
        "  if user_pin == self.pin:\n",
        "    print('your balance is ', self.balance)\n",
        "  else:\n",
        "    print('Get out from here:')\n",
        "\n",
        "def withdraw(self):\n",
        "  user_pin = input('enter your pin')\n",
        "  if user_pin == self.pin:\n",
        "   amount = int(input('enter amount'))\n",
        "   if amount <= self.balance:\n",
        "    self.balance = self.balance - amount\n",
        "    print('withdraw sucessfull', self.balance)\n",
        "   else:\n",
        "      print('sorry poor boy')\n",
        "  else :\n",
        "    print('you bloody theif')\n",
        "\n",
        "  self.menu()"
      ],
      "metadata": {
        "id": "7A2biZZKqN9f"
      },
      "execution_count": null,
      "outputs": []
    },
    {
      "cell_type": "code",
      "source": [],
      "metadata": {
        "id": "nRS80iKQwJc-"
      },
      "execution_count": null,
      "outputs": []
    },
    {
      "cell_type": "code",
      "source": [],
      "metadata": {
        "id": "xS8Bbra9zDQ9"
      },
      "execution_count": null,
      "outputs": []
    },
    {
      "cell_type": "code",
      "source": [
        "# fraction\n",
        "class Fraction:\n",
        "\n",
        "# parameterized constructor\n",
        "   def __init__(self,x,y):\n",
        "    self.num = x\n",
        "    self.den = y\n",
        "\n",
        "   def __str__(self):\n",
        "      return '{}/{}'.format(self.num/self.den)\n",
        "\n",
        "   def __add__(self,other):\n",
        "    new_num = self.num*other.den + other.num* self.den\n",
        "    new_den = self.den*other.den\n",
        "    return '{}/{}'.format(new_num, new_den)\n",
        "\n",
        "   def __sub__(self,other):\n",
        "    new_num = self.num*other.den - other.num* self.den\n",
        "    new_den = self.den*other.den\n",
        "    return '{}/{}'.format(new_num, new_den)\n",
        "\n",
        "    def __mul__(self,other):\n",
        "     new_num = self.num*other.num\n",
        "     new_den = self.den*other.den\n",
        "    return '{}/{}'.format(new_num, new_den)\n",
        "\n",
        "    def __truediv__(self,other):\n",
        "      new_num = self.num*other.den\n",
        "      new_den = self.den*other.num\n",
        "    return '{}/{}'.format(new_num,nuw_den)\n",
        "\n",
        "    def convert_to_dec(self):\n",
        "      return self.num/self.den\n",
        "\n",
        "\n",
        "\n",
        "\n",
        "\n"
      ],
      "metadata": {
        "id": "FQgfGyntx-MM"
      },
      "execution_count": null,
      "outputs": []
    },
    {
      "cell_type": "code",
      "source": [
        "fr1 = Fraction(3,4)\n",
        "fr2 = Fraction(1,2)"
      ],
      "metadata": {
        "id": "wuHk78XgdYv6"
      },
      "execution_count": null,
      "outputs": []
    },
    {
      "cell_type": "code",
      "source": [
        "fr1+fr2"
      ],
      "metadata": {
        "colab": {
          "base_uri": "https://localhost:8080/",
          "height": 35
        },
        "id": "zrKdSGL-hfT6",
        "outputId": "131e1092-c33e-44f0-ed4b-7d803a475ba8"
      },
      "execution_count": null,
      "outputs": [
        {
          "output_type": "execute_result",
          "data": {
            "text/plain": [
              "'10/8'"
            ],
            "application/vnd.google.colaboratory.intrinsic+json": {
              "type": "string"
            }
          },
          "metadata": {},
          "execution_count": 57
        }
      ]
    },
    {
      "cell_type": "code",
      "source": [
        "fr1-fr2"
      ],
      "metadata": {
        "colab": {
          "base_uri": "https://localhost:8080/",
          "height": 35
        },
        "id": "M3Fs28zLhjSA",
        "outputId": "aa588e57-5a78-43d1-92a2-acd37a2eb4ca"
      },
      "execution_count": null,
      "outputs": [
        {
          "output_type": "execute_result",
          "data": {
            "text/plain": [
              "'2/8'"
            ],
            "application/vnd.google.colaboratory.intrinsic+json": {
              "type": "string"
            }
          },
          "metadata": {},
          "execution_count": 58
        }
      ]
    },
    {
      "cell_type": "code",
      "source": [],
      "metadata": {
        "id": "ljQUuQABn4if"
      },
      "execution_count": null,
      "outputs": []
    },
    {
      "cell_type": "code",
      "source": [],
      "metadata": {
        "id": "4FNrTdPLn4ub"
      },
      "execution_count": null,
      "outputs": []
    },
    {
      "cell_type": "code",
      "source": [
        "class Point:\n",
        "\n",
        "  def __init__(self,x,y):\n",
        "    self.x_cod = x\n",
        "    self.y_cod = y\n",
        "  def __str__(self):\n",
        "    return \"({},{})\".format(self.x_cod, self.y_cod)\n",
        "\n",
        "  def ecludian_dist(self,other):\n",
        "    return ((self.x_cod - other.x_cod)**2 + (self.y_cod - other.y_cod)**2)**0.5\n",
        "\n",
        "  def dist_from_origin(self):\n",
        "    return self.ecludian_dist(Point(0,0))\n",
        "\n",
        "\n",
        "class Line:\n",
        "  def __init__(self,A,B,C):\n",
        "    self.A = A\n",
        "    self.B = B\n",
        "    self.C = C\n",
        "  def __str__(self):\n",
        "    return '{}x+ {}y+{}=0'.format(self.A, self.B, self.C)\n",
        "\n",
        "  def Point_online(self,point):\n",
        "    if self.A* point.x_cod + self.B*point.y_cod + self.C==0:\n",
        "      print('lies on line')\n",
        "\n",
        "    else:\n",
        "      print('not lie on line')\n",
        "\n",
        "\n",
        "\n",
        "  def short_dist(self,point):\n",
        "   return  abs(self.A*point.x_cod + self.B*point.y_cod + self.C)/(self.A**2 + self.B**2)**0.5\n",
        "\n"
      ],
      "metadata": {
        "id": "ROlc4AuDkTM1"
      },
      "execution_count": null,
      "outputs": []
    },
    {
      "cell_type": "code",
      "source": [
        "l1 = Line(1,1,-2)\n",
        "p1 = Point(1,1)\n",
        "\n",
        "l1.short_dist(p1)"
      ],
      "metadata": {
        "colab": {
          "base_uri": "https://localhost:8080/"
        },
        "id": "WBeaccsHvUAM",
        "outputId": "29300057-959c-47a6-a46e-2edf175b86f4"
      },
      "execution_count": null,
      "outputs": [
        {
          "output_type": "execute_result",
          "data": {
            "text/plain": [
              "0.0"
            ]
          },
          "metadata": {},
          "execution_count": 102
        }
      ]
    },
    {
      "cell_type": "code",
      "source": [
        "l1 = Line(1,1,-2)\n",
        "print(l1)"
      ],
      "metadata": {
        "colab": {
          "base_uri": "https://localhost:8080/"
        },
        "id": "Zwq4BVdDrGlc",
        "outputId": "61e8ab2c-415f-4484-86fb-4576047aa987"
      },
      "execution_count": null,
      "outputs": [
        {
          "output_type": "stream",
          "name": "stdout",
          "text": [
            "1x+ 1y+-2=0\n"
          ]
        }
      ]
    },
    {
      "cell_type": "code",
      "source": [
        "p1 = Point(4,1)\n",
        "print(p1)\n",
        "\n",
        "l1.Point_online(p1)"
      ],
      "metadata": {
        "colab": {
          "base_uri": "https://localhost:8080/"
        },
        "id": "Y1KEYBMGsrHl",
        "outputId": "fbdfdd05-82a4-4c4f-bf60-7efbdd045a27"
      },
      "execution_count": null,
      "outputs": [
        {
          "output_type": "stream",
          "name": "stdout",
          "text": [
            "(4,1)\n",
            "not lie on line\n"
          ]
        }
      ]
    },
    {
      "cell_type": "code",
      "source": [
        "p1 = Point(0,0)\n",
        "print(p1)"
      ],
      "metadata": {
        "colab": {
          "base_uri": "https://localhost:8080/"
        },
        "id": "igSqCtVAk6cx",
        "outputId": "11127875-ef39-4ee6-cae5-c83417aa77ec"
      },
      "execution_count": null,
      "outputs": [
        {
          "output_type": "stream",
          "name": "stdout",
          "text": [
            "(0,0)\n"
          ]
        }
      ]
    },
    {
      "cell_type": "code",
      "source": [
        "p2 = Point(10,-1)\n",
        "print(p2)"
      ],
      "metadata": {
        "colab": {
          "base_uri": "https://localhost:8080/"
        },
        "id": "sdB6M7dDlo1K",
        "outputId": "fef433fe-d6d3-4e1f-803c-f83e711dc6e9"
      },
      "execution_count": null,
      "outputs": [
        {
          "output_type": "stream",
          "name": "stdout",
          "text": [
            "(10,-1)\n"
          ]
        }
      ]
    },
    {
      "cell_type": "code",
      "source": [
        "p1.ecludian_dist(p2)"
      ],
      "metadata": {
        "id": "tMnaImOUmwfi",
        "outputId": "c0fb4e4f-639f-485e-e179-dcc38797ed15",
        "colab": {
          "base_uri": "https://localhost:8080/"
        }
      },
      "execution_count": null,
      "outputs": [
        {
          "output_type": "execute_result",
          "data": {
            "text/plain": [
              "10.04987562112089"
            ]
          },
          "metadata": {},
          "execution_count": 73
        }
      ]
    },
    {
      "cell_type": "code",
      "source": [
        "p2.dist_from_origin()"
      ],
      "metadata": {
        "colab": {
          "base_uri": "https://localhost:8080/"
        },
        "id": "ref_bbs9oDFr",
        "outputId": "d103130d-5d32-4aee-cdda-1538039b23d5"
      },
      "execution_count": null,
      "outputs": [
        {
          "output_type": "execute_result",
          "data": {
            "text/plain": [
              "10.04987562112089"
            ]
          },
          "metadata": {},
          "execution_count": 77
        }
      ]
    },
    {
      "cell_type": "code",
      "source": [],
      "metadata": {
        "id": "SDu3SWEPuFYh"
      },
      "execution_count": null,
      "outputs": []
    },
    {
      "cell_type": "code",
      "source": [
        "class Person:\n",
        "\n",
        "  def __init__(self,name,gender):\n",
        "    self.name = name\n",
        "    self.gender = gender\n",
        "\n",
        "def greet(person):\n",
        "  print(id(person))\n",
        "  print('Hi my name is',person.name ,'and I am a ', person.gender )\n",
        "p =  Person('pavan','male')\n",
        "print(id(p))\n",
        "greet(p)"
      ],
      "metadata": {
        "colab": {
          "base_uri": "https://localhost:8080/"
        },
        "id": "aTX60PaxzEuJ",
        "outputId": "b750dc0f-3d07-43a1-90dd-dc72da513c0b"
      },
      "execution_count": null,
      "outputs": [
        {
          "output_type": "stream",
          "name": "stdout",
          "text": [
            "136179673143600\n",
            "136179673143600\n",
            "Hi my name is pavan and I am a  male\n"
          ]
        }
      ]
    },
    {
      "cell_type": "code",
      "source": [],
      "metadata": {
        "id": "Rw2HfFHR4vdf"
      },
      "execution_count": null,
      "outputs": []
    },
    {
      "cell_type": "code",
      "source": [
        "class Person:\n",
        "\n",
        "  def __init__(self, name, age, gender):\n",
        "    self.name = name\n",
        "    self.age = age\n",
        "    self.gender = gender\n",
        "\n",
        "p1 = Person('pavan', 26, 'M')\n",
        "p2 = Person(\"pratheek\", 22, 'M')\n",
        "p3 = Person(\"phani\", 26, 'M')\n",
        "\n",
        "L = [p1, p2, p3]\n",
        "\n",
        "for i in L:\n",
        "  print(i.name, i.gender)\n",
        "\n",
        "\n"
      ],
      "metadata": {
        "colab": {
          "base_uri": "https://localhost:8080/"
        },
        "id": "oJPR9iuBJmCY",
        "outputId": "b62880ff-7540-4e92-f97d-3853ad7a7a85"
      },
      "execution_count": null,
      "outputs": [
        {
          "output_type": "stream",
          "name": "stdout",
          "text": [
            "pavan M\n",
            "pratheek M\n",
            "phani M\n"
          ]
        }
      ]
    },
    {
      "cell_type": "code",
      "source": [],
      "metadata": {
        "id": "sd68_f9qLJov"
      },
      "execution_count": null,
      "outputs": []
    },
    {
      "cell_type": "code",
      "source": [],
      "metadata": {
        "id": "fKBcliGgMSut"
      },
      "execution_count": null,
      "outputs": []
    },
    {
      "cell_type": "code",
      "source": [],
      "metadata": {
        "id": "ti7RVdHyMS8F"
      },
      "execution_count": null,
      "outputs": []
    },
    {
      "cell_type": "markdown",
      "source": [
        "## Encapsulation"
      ],
      "metadata": {
        "id": "HYvbyGzY6NQg"
      }
    },
    {
      "cell_type": "code",
      "source": [
        "# banking application.\n",
        "class Atm :\n",
        " __counter = 1\n",
        "\n",
        "# constructor -> we don't need to call the constructor\n",
        " def  __init__(self):     # special function called magic method\n",
        "\n",
        "  self.pin = ''\n",
        "  self.__balance = 0\n",
        "  self.cid = Atm.__counter\n",
        "  Atm.__counter = Atm.__counter+1\n",
        "  # self.menu()\n",
        "\n",
        " @staticmethod\n",
        " def counter():\n",
        "  return Atm.__counter\n",
        "\n",
        "\n",
        "\n",
        "  @ property\n",
        "  def get_balance(self):\n",
        "    return self.__balance\n",
        "\n",
        "  @ get_balance.setter\n",
        "  def get_balance(self,new_value):\n",
        "\n",
        "    if type(new_value) == int:\n",
        "       self.__balance == new_value\n",
        "\n",
        "    else:\n",
        "      print('i will kick your ass bitch!')\n",
        "\n",
        "\n",
        "  def menu(self):\n",
        "\n",
        "   user_input = input(\"\"\"Hi how can i help you?\n",
        "           1.press 1 to create pin\n",
        "           2. press 2 to change pin\n",
        "           3. press 3 to check balance\n",
        "           4. press 4 to withdraw\n",
        "           5. exit\"\"\")\n",
        "\n",
        "   if user_input == '1':\n",
        "    self.create_pin()\n",
        "\n",
        "   elif user_input == '2':\n",
        "    self.change_pin()\n",
        "\n",
        "   elif user_input == '3':\n",
        "    self.check_balance()\n",
        "\n",
        "   elif user_input =='4':\n",
        "    self.withdraw()\n",
        "\n",
        "   else:\n",
        "    exit()\n",
        "\n",
        "def create_pin(self):\n",
        "  user_pin = input('enter your pin: ')\n",
        "\n",
        "  self.pin = user_pin\n",
        "\n",
        "  user_balance=  int(input('enter balance'))\n",
        "\n",
        "  self.balance = user_balance\n",
        "\n",
        "  print('pin created sucessfully')\n",
        "\n",
        "\n",
        "def change_pin(self):\n",
        "  old_pin =input('enter old pin')\n",
        "  if old_pin == self.pin:\n",
        "   new_pin = input('enter new pin:')\n",
        "   self.pin = new_pin\n",
        "   print('pin changed sucessfull')\n",
        "   self.menu()\n",
        "  else:\n",
        "    print('not allowed to change the pin')\n",
        "    self.menu()\n",
        "\n",
        "def check_balance(self):\n",
        "  user_pin =input('enter pin')\n",
        "  if user_pin == self.pin:\n",
        "    print('your balance is ', self.balance)\n",
        "  else:\n",
        "    print('Get out from here:')\n",
        "\n",
        "def withdraw(self):\n",
        "  user_pin = input('enter your pin')\n",
        "  if user_pin == self.pin:\n",
        "   amount = int(input('enter amount'))\n",
        "   if amount <= self.balance:\n",
        "    self.balance = self.balance - amount\n",
        "    print('withdraw sucessfull', self.balance)\n",
        "   else:\n",
        "      print('sorry poor boy')\n",
        "  else :\n",
        "    print('you bloody theif')\n",
        "\n",
        "  self.menu()"
      ],
      "metadata": {
        "id": "k8dK1_zpL3nf"
      },
      "execution_count": null,
      "outputs": []
    },
    {
      "cell_type": "code",
      "source": [],
      "metadata": {
        "id": "xx0BY578gnzD"
      },
      "execution_count": null,
      "outputs": []
    },
    {
      "cell_type": "markdown",
      "source": [
        "## Inheretence"
      ],
      "metadata": {
        "id": "nnR5T2fI6VxY"
      }
    },
    {
      "cell_type": "code",
      "source": [
        "#  class relationships.\n",
        "# 1.Aggregation -> has a relationship\n",
        "class Customer:\n",
        "\n",
        "  def __init__(self,name,gender,address):\n",
        "    self.name = name\n",
        "    self.gender = gender\n",
        "    self.address = address\n",
        "\n",
        "  def print_address(self):\n",
        "    print(self.address.get_city(), self.address.pincode, self.address.state)\n",
        "\n",
        "\n",
        "\n",
        "  def edit_profile(self,new_name, new_city,new_pin, new_state):\n",
        "    self.name = new_name\n",
        "    self.address.edit_address(new_city,new_pin,new_city)\n",
        "\n",
        "\n",
        "class Address:\n",
        "\n",
        "   def __init__(self,city,pincode,state):\n",
        "    self.__city = city\n",
        "    self.pincode = pincode\n",
        "    self.state = state\n",
        "\n",
        "\n",
        "   def get_city(self):\n",
        "    return self.__city\n",
        "\n",
        "\n",
        "   def edit_address(self,new_city, new_pin, new_state):\n",
        "    self.__city = new_city\n",
        "    self.pin = new_pin\n",
        "    self.state = new_state\n",
        "\n",
        "\n",
        "\n",
        "add1 = Address('Eluru',554002,'AP')\n",
        "cust = Customer('pavan','m',add1)\n",
        "cust.print_address()\n",
        "\n",
        "cust.edit_profile('pratheek','durgapur',33613,'west bengal')\n",
        "cust.print_address()\n"
      ],
      "metadata": {
        "colab": {
          "base_uri": "https://localhost:8080/"
        },
        "id": "Q9rAc586goBh",
        "outputId": "a516c06c-01c6-49b0-b3df-15101361640a"
      },
      "execution_count": null,
      "outputs": [
        {
          "output_type": "stream",
          "name": "stdout",
          "text": [
            "Eluru 534003 AP\n",
            "durgapur 534003 durgapur\n"
          ]
        }
      ]
    },
    {
      "cell_type": "code",
      "source": [],
      "metadata": {
        "id": "wT_XOYgkxgb_"
      },
      "execution_count": null,
      "outputs": []
    },
    {
      "cell_type": "code",
      "source": [],
      "metadata": {
        "id": "voTzpp77yGWG"
      },
      "execution_count": null,
      "outputs": []
    },
    {
      "cell_type": "code",
      "source": [],
      "metadata": {
        "id": "DgiKXe8QyGZv"
      },
      "execution_count": null,
      "outputs": []
    },
    {
      "cell_type": "code",
      "source": [
        "# 2. Inheretence"
      ],
      "metadata": {
        "id": "rrEGIyIqyGdH"
      },
      "execution_count": null,
      "outputs": []
    },
    {
      "cell_type": "code",
      "source": [
        "# parent class\n",
        "class User:\n",
        "\n",
        "  def __init__(self):\n",
        "    self.name = 'pavan'\n",
        "\n",
        "  def login(self):\n",
        "    print('login')\n",
        "\n",
        "# child class\n",
        "class Student(User):\n",
        "\n",
        "\n",
        "  def __init__(self):\n",
        "    self.rollno = 100\n",
        "\n",
        "  def enroll(self):\n",
        "    print('eroll in to the course')\n",
        "\n",
        "u = User()\n",
        "s = Student()\n"
      ],
      "metadata": {
        "id": "etF3OhnGyGgr"
      },
      "execution_count": null,
      "outputs": []
    },
    {
      "cell_type": "code",
      "source": [
        "print(u.name)"
      ],
      "metadata": {
        "colab": {
          "base_uri": "https://localhost:8080/"
        },
        "id": "zz2Y5WLa1_bw",
        "outputId": "08df6009-6862-48ea-f465-1d4145cd4fe3"
      },
      "execution_count": null,
      "outputs": [
        {
          "output_type": "stream",
          "name": "stdout",
          "text": [
            "pavan\n"
          ]
        }
      ]
    },
    {
      "cell_type": "code",
      "source": [],
      "metadata": {
        "id": "yYOtSKIU7eaF"
      },
      "execution_count": null,
      "outputs": []
    },
    {
      "cell_type": "code",
      "source": [
        "class Parent:\n",
        "\n",
        "  def __init__(self,num):\n",
        "    self.__num = num\n",
        "\n",
        "  @ property\n",
        "  def get_num(self):\n",
        "    return self.__num\n",
        "\n",
        "class Child(Parent):\n",
        "\n",
        "  def show(self):\n",
        "    print(' This is in child class')\n",
        "\n",
        "son = Child(100)\n",
        "#print(son.get_num())\n",
        "son.show()"
      ],
      "metadata": {
        "colab": {
          "base_uri": "https://localhost:8080/"
        },
        "id": "boTF_MPJ7enO",
        "outputId": "8bc49c31-8e56-42ee-f16f-f43b9dd64081"
      },
      "execution_count": null,
      "outputs": [
        {
          "output_type": "stream",
          "name": "stdout",
          "text": [
            " This is in child class\n"
          ]
        }
      ]
    },
    {
      "cell_type": "code",
      "source": [
        "# another example"
      ],
      "metadata": {
        "id": "h41RCGcC793L"
      },
      "execution_count": null,
      "outputs": []
    },
    {
      "cell_type": "code",
      "source": [
        "class Parent:\n",
        "\n",
        "  def __init__(self,num):\n",
        "    self.__num= num\n",
        "\n",
        "  def get_num(self):\n",
        "    return self.__num\n",
        "\n",
        "class Child(Parent):\n",
        "\n",
        "  def __init__(self,val,num):\n",
        "    super().__init__(num)\n",
        "    self.__val= val\n",
        "\n",
        "  def get_val(self):\n",
        "    return self.__val\n",
        "\n",
        "son = Child(100,10)\n",
        "print('parent:Num:',son.get_num())\n",
        "print('child:val :', son.get_val())\n"
      ],
      "metadata": {
        "colab": {
          "base_uri": "https://localhost:8080/"
        },
        "id": "9TPd0CUZ8zJs",
        "outputId": "d8caacbb-75a3-496a-dbc2-7df998ba2141"
      },
      "execution_count": null,
      "outputs": [
        {
          "output_type": "stream",
          "name": "stdout",
          "text": [
            "parent:Num: 10\n",
            "child:val : 100\n"
          ]
        }
      ]
    },
    {
      "cell_type": "code",
      "source": [],
      "metadata": {
        "id": "crAkMDADApJC"
      },
      "execution_count": null,
      "outputs": []
    },
    {
      "cell_type": "code",
      "source": [],
      "metadata": {
        "id": "PUqhYFCEApaj"
      },
      "execution_count": null,
      "outputs": []
    },
    {
      "cell_type": "code",
      "source": [
        "class Phone:\n",
        "\n",
        "  def __init__(self, price, brand, camera):\n",
        "    print('Inside phone constructor')\n",
        "    self.__price = price\n",
        "    self.brand = brand\n",
        "    self.camera = camera\n",
        "\n",
        "class SmartPhone(Phone):\n",
        "\n",
        "  def __init__(self,price,brand,camera,os, ram):\n",
        "    print('Inside smartphone constructor')\n",
        "    super().__init__(price,brand,camera)\n",
        "    self.os = os\n",
        "    self.ram = ram\n",
        "\n",
        "s = SmartPhone(50000, 'oneplus',12, 'Android',2)\n",
        "print(s.os)\n",
        "print(s.camera)"
      ],
      "metadata": {
        "colab": {
          "base_uri": "https://localhost:8080/"
        },
        "id": "oAlzQoUV9zl5",
        "outputId": "070cd420-e97b-4d8b-a7b4-21f59b8cb052"
      },
      "execution_count": null,
      "outputs": [
        {
          "output_type": "stream",
          "name": "stdout",
          "text": [
            "Inside smartphone constructor\n",
            "Inside phone constructor\n",
            "Android\n",
            "12\n"
          ]
        }
      ]
    },
    {
      "cell_type": "code",
      "source": [],
      "metadata": {
        "id": "-UX5eQOoEDEi"
      },
      "execution_count": null,
      "outputs": []
    },
    {
      "cell_type": "code",
      "source": [],
      "metadata": {
        "id": "YIp3ZG6eEtTp"
      },
      "execution_count": null,
      "outputs": []
    },
    {
      "cell_type": "code",
      "source": [
        "class Phone:\n",
        "\n",
        "  def __init__ (self,price, brand, camera):\n",
        "    print('inside phone constructor')\n",
        "    self.price = price\n",
        "    self.brand = brand\n",
        "    self.camera = camera\n",
        "\n",
        "  def buy(self):\n",
        "    print('buying a phone')\n",
        "\n",
        "class Product:\n",
        "  def review(self):\n",
        "    print('customer review')\n",
        "\n",
        "\n",
        "class SmartPhone(Phone, Product):\n",
        "  pass\n",
        "\n",
        "\n",
        "s = SmartPhone(20000, \"apple\",12)\n",
        "s.buy()\n",
        "s.review()"
      ],
      "metadata": {
        "colab": {
          "base_uri": "https://localhost:8080/"
        },
        "id": "KPL9ejUHEtXM",
        "outputId": "9cac86c1-e9ce-4a0a-8a4a-a06f574bad41"
      },
      "execution_count": null,
      "outputs": [
        {
          "output_type": "stream",
          "name": "stdout",
          "text": [
            "inside phone constructor\n",
            "buying a phone\n",
            "customer review\n"
          ]
        }
      ]
    },
    {
      "cell_type": "code",
      "source": [],
      "metadata": {
        "id": "JbLsaBBIGDFw"
      },
      "execution_count": null,
      "outputs": []
    },
    {
      "cell_type": "code",
      "source": [],
      "metadata": {
        "id": "21Fnhht0GDR4"
      },
      "execution_count": null,
      "outputs": []
    },
    {
      "cell_type": "code",
      "source": [],
      "metadata": {
        "id": "1X7njntpQ7qg"
      },
      "execution_count": null,
      "outputs": []
    },
    {
      "cell_type": "markdown",
      "source": [
        "## Multiple Inheritance with Encapsulation."
      ],
      "metadata": {
        "id": "Q8yurg5YQ8bG"
      }
    },
    {
      "cell_type": "code",
      "source": [
        "class Phone:\n",
        "\n",
        "  def __init__ (self,price, brand, camera):\n",
        "    print('inside phone constructor')\n",
        "    self.price = price\n",
        "    self.brand = brand\n",
        "    self.camera = camera\n",
        "\n",
        "  def __buy(self):\n",
        "    print('buying a phone')\n",
        "\n",
        "\n",
        "class Product:\n",
        "  def review(self):\n",
        "    print('customer review')\n",
        "\n",
        "  def __buy(self):\n",
        "    print('product buy method')\n",
        "\n",
        "\n",
        "\n",
        "# method resolution order(MRO)\n",
        "class SmartPhone(Phone, Product):\n",
        "  def __init__(self,price, brand, camera,battery,no_apps):\n",
        "    super().__init__(price, brand, camera)\n",
        "    print('inside smart phone constructor')\n",
        "    self.battery = battery\n",
        "    self.no_apps = no_apps\n",
        "\n",
        "  def __buy(self):\n",
        "    print('Inside smartphone class buy method')\n",
        "\n",
        "\n",
        "\n",
        "\n",
        "  def get_buy(self):\n",
        "    return self.__buy()\n",
        "\n",
        "\n",
        "  def set_buy(self,value):\n",
        "    print('setter is created in this class')\n",
        "\n",
        "\n",
        "s = SmartPhone(20000, \"apple\",12,'5000maH',25)\n",
        "s.get_buy()"
      ],
      "metadata": {
        "colab": {
          "base_uri": "https://localhost:8080/"
        },
        "id": "Z03FQKuRFwjN",
        "outputId": "882d45aa-f842-49e0-bc1c-4e90c6b55821"
      },
      "execution_count": null,
      "outputs": [
        {
          "output_type": "stream",
          "name": "stdout",
          "text": [
            "inside phone constructor\n",
            "inside smart phone constructor\n",
            "Inside smartphone class buy method\n"
          ]
        }
      ]
    },
    {
      "cell_type": "code",
      "source": [],
      "metadata": {
        "id": "i3EhqixxP09B"
      },
      "execution_count": null,
      "outputs": []
    },
    {
      "cell_type": "code",
      "source": [],
      "metadata": {
        "id": "aWhycFjlZ-SC"
      },
      "execution_count": null,
      "outputs": []
    },
    {
      "cell_type": "code",
      "source": [
        "class A:\n",
        "\n",
        "  def m1(self):\n",
        "    return 20\n",
        "\n",
        "class B(A):\n",
        "\n",
        "  def m1(self):\n",
        "    val = super().m1()+30\n",
        "    return val\n",
        "\n",
        "class C(B):\n",
        "\n",
        "  def m1(self):\n",
        "    val1 = super().m1()+20\n",
        "    return val1\n",
        "\n",
        "obje = C()\n",
        "print(obje.m1())\n",
        "# to check method resolution order(MRO)\n",
        "C.mro()"
      ],
      "metadata": {
        "colab": {
          "base_uri": "https://localhost:8080/"
        },
        "id": "vG9Uxas1Z-Vk",
        "outputId": "70b0573e-a12b-4da7-b2e9-cbb5d5fe04d3"
      },
      "execution_count": null,
      "outputs": [
        {
          "output_type": "stream",
          "name": "stdout",
          "text": [
            "70\n"
          ]
        },
        {
          "output_type": "execute_result",
          "data": {
            "text/plain": [
              "[__main__.C, __main__.B, __main__.A, object]"
            ]
          },
          "metadata": {},
          "execution_count": 53
        }
      ]
    },
    {
      "cell_type": "code",
      "source": [],
      "metadata": {
        "id": "2cedH_1WcF6Z"
      },
      "execution_count": null,
      "outputs": []
    },
    {
      "cell_type": "code",
      "source": [],
      "metadata": {
        "id": "Ak1DFvaRfjV-"
      },
      "execution_count": null,
      "outputs": []
    },
    {
      "cell_type": "markdown",
      "source": [
        "## Polymorphism.\n",
        "-> # method Overriding.\n",
        "\n",
        "-> # method overloading (not available in python )"
      ],
      "metadata": {
        "id": "9XY6WiebfjxN"
      }
    },
    {
      "cell_type": "code",
      "source": [],
      "metadata": {
        "id": "X8NMS06xkuHq"
      },
      "execution_count": null,
      "outputs": []
    },
    {
      "cell_type": "code",
      "source": [],
      "metadata": {
        "id": "K-MebmKdk1Vw"
      },
      "execution_count": null,
      "outputs": []
    },
    {
      "cell_type": "markdown",
      "source": [
        "Abstraction."
      ],
      "metadata": {
        "id": "bfRT8GQmk2Fa"
      }
    },
    {
      "cell_type": "code",
      "source": [
        "from abc import ABC, abstractmethod\n",
        "class BankApp(ABC):\n",
        "\n",
        "  def database(self):\n",
        "    print('connected to database')\n",
        "\n",
        "  @abstractmethod\n",
        "  def security(self):\n",
        "    pass\n",
        "\n",
        "  @abstractmethod\n",
        "  def display(self):\n",
        "    pass"
      ],
      "metadata": {
        "id": "kFlCnWPToZg4"
      },
      "execution_count": null,
      "outputs": []
    },
    {
      "cell_type": "code",
      "source": [
        "class MobileApp(BankApp):\n",
        "\n",
        "  def mobile_login(self):\n",
        "    print('login into mobile')\n",
        "\n",
        "\n",
        "  def security(self):\n",
        "    print('mobile security')\n",
        "\n",
        "  def display(self):\n",
        "    print('dsiplay')"
      ],
      "metadata": {
        "id": "ogt52p9UpcTv"
      },
      "execution_count": null,
      "outputs": []
    },
    {
      "cell_type": "code",
      "source": [
        "mob = MobileApp()"
      ],
      "metadata": {
        "id": "hwa4sgKZpgx5"
      },
      "execution_count": null,
      "outputs": []
    }
  ]
}